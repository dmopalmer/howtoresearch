{
 "cells": [
  {
   "cell_type": "markdown",
   "metadata": {},
   "source": [
    "# Lesson on Frequencies.\n",
    "\n",
    "<img src=\"Jocelyn_Bell.jpg\">\n",
    "\n",
    "\n",
    "Pulsar:\n",
    "1. ~1.4x as massive as the Sun\n",
    "1. ~12 km radius (size of Albuquerque)\n",
    "1. Can produce radio/x-ray/gamma-ray blips every time it spins\n",
    "1. Spins up to 716 times per second\n",
    "1. Clock about as good as anything Humans can make\n"
   ]
  },
  {
   "cell_type": "code",
   "execution_count": null,
   "metadata": {},
   "outputs": [],
   "source": [
    "%matplotlib widget\n",
    "# The `widget` setting lets you make plots in the output cell, and manipulate zoom, etc.\n",
    "import matplotlib.pyplot as plt\n",
    "import numpy as np\n",
    "import scipy as sp\n",
    "import astropy as ap\n",
    "import astropy.units as u\n",
    "import sounddevice\n",
    "from scipy.io import wavfile\n",
    "import time"
   ]
  },
  {
   "cell_type": "code",
   "execution_count": null,
   "metadata": {},
   "outputs": [],
   "source": [
    "m_ns = 1.4 * u.solMass      # Maybe up to 1.5,1.6, but any heavier and it collapses to a black hole\n",
    "r_ns = 12 * u.km            # Somewhere in the 10-15 km range\n",
    "\n",
    "v_ns = (4/3 * np.pi * r_ns ** 3)\n",
    "d_ns = m_ns / v_ns\n",
    "print(f\"Density of Neutron star: {d_ns.si:.2e}\")"
   ]
  },
  {
   "cell_type": "code",
   "execution_count": null,
   "metadata": {},
   "outputs": [],
   "source": [
    "# How much does everybody on Earth weigh, and how does that compare to this:\n",
    "n_people = 7.7e9 # How many people are there?                                      \n",
    "m_person = 50 * u.kg # How much does each one weigh, on average? \n",
    "\n",
    "m_humanity = n_people * m_person\n",
    "print(f\"Everybody weighs a total of {m_humanity:.1e}\")\n",
    "\n",
    "v_humanity_at_ns_density = m_humanity / d_ns\n",
    "sidelength = v_humanity_at_ns_density ** (1/3)\n",
    "print(f\"Everybody fits in a {sidelength.to(u.cm):.3f} cube\")"
   ]
  },
  {
   "cell_type": "markdown",
   "metadata": {},
   "source": [
    "## Questions\n",
    "\n",
    "How large a cube do you need to fit everyone on Earth at normal density?\n",
    "\n",
    "How many elephants/blue whales/supertankers/heavy thing of your choice would it take to weigh as much as a piece of neutron star material the size of a grain of dust?"
   ]
  },
  {
   "cell_type": "code",
   "execution_count": null,
   "metadata": {},
   "outputs": [],
   "source": [
    "# Your work here"
   ]
  },
  {
   "cell_type": "markdown",
   "metadata": {},
   "source": [
    "## How do you find pulsars?\n",
    "\n",
    "Point a radiotelescope at the sky and look for a periodic signal.\n",
    "\n",
    "## How do you find a periodic signal?\n",
    "\n",
    "~Plot it out and look for repetition.~\n",
    "\n",
    "~Turn it into sounds and listen for musical notes, buzzing, or ticking.~\n",
    "\n",
    "~Magic~\n",
    "\n",
    "The Fast Fourier Transform.\n",
    "\n",
    "## What is a Fast Fourier Transform (FFT)?\n",
    "\n",
    "An extremely clever way of looking for a periodic signal.\n",
    "\n",
    "It takes a series of data points and tells you how much signal there is at every possible frequency.\n",
    "\n",
    "It is one of the most widely used algorithms in the world.\n",
    "\n",
    "## How does it work?\n",
    "\n",
    "Magic.  (You can understand it, but it is still magic.)\n",
    "\n",
    "## Then how do you use it?\n",
    "\n",
    "That's what we are about to learn.\n",
    "\n",
    "## On pulsars?\n",
    "\n",
    "Let's start with music."
   ]
  },
  {
   "cell_type": "code",
   "execution_count": null,
   "metadata": {},
   "outputs": [],
   "source": [
    "# Start with a single tone (C4) played on a flute (see Credits below for references)\n",
    "fname = 'singleflute-c4.wav'\n",
    "# Or a simple melody\n",
    "# fname = 'flute-loop.wav'"
   ]
  },
  {
   "cell_type": "code",
   "execution_count": null,
   "metadata": {},
   "outputs": [],
   "source": [
    "# Load the file\n",
    "samplerate, data = wavfile.read(fname)\n",
    "if len(data.shape) == 2:\n",
    "    # Take only one channel if it is stereo/or multichannel\n",
    "    data = data[:,0]\n",
    "print(f\"File: {fname} @ {samplerate} samples/second, {len(data)} samples\")\n"
   ]
  },
  {
   "cell_type": "code",
   "execution_count": null,
   "metadata": {},
   "outputs": [],
   "source": [
    "# Play it so we can hear it\n",
    "sounddevice.play(data, samplerate)\n",
    "time.sleep(len(data)/samplerate)"
   ]
  },
  {
   "cell_type": "code",
   "execution_count": null,
   "metadata": {},
   "outputs": [],
   "source": [
    "%matplotlib widget\n",
    "# Let's take a snippet out of the center to reduce the number of samples we worry about\n",
    "snippetsize = 2 ** 12  # FFT works best when length is power of 2\n",
    "i_midpoint = (len(data) - snippetsize) // 2    # The // division gives an integer and throws away remainder\n",
    "\n",
    "snippet = data[i_midpoint:i_midpoint+snippetsize]\n",
    "print(f\"Working with snippet of {len(snippet)} samples = {len(snippet) / samplerate :.2f} seconds\")\n",
    "# Play the snippet so we can hear it\n",
    "sounddevice.play(snippet, samplerate)\n",
    "time.sleep(len(snippet)/samplerate)\n",
    "# Plot the snippet so we can see it\n",
    "plt.plot(np.arange(len(snippet))/samplerate, snippet)\n",
    "plt.xlabel(\"Time (s)\")\n",
    "plt.ylabel(\"value\")"
   ]
  },
  {
   "cell_type": "code",
   "execution_count": null,
   "metadata": {},
   "outputs": [],
   "source": [
    "%matplotlib widget\n",
    "# Now let's look at the FFT\n",
    "v_fft = np.fft.rfft(snippet)  # rfft because the input values are real (not complex)\n",
    "f_fft = np.fft.rfftfreq(len(snippet), 1/samplerate)\n",
    "\n",
    "plt.plot(f_fft, np.abs(v_fft))  # Why absolute value?  I'll get to that\n",
    "plt.xlabel(\"Frequency\")\n",
    "plt.ylabel(\"Amplitude\")"
   ]
  },
  {
   "cell_type": "markdown",
   "metadata": {},
   "source": [
    "# Why so many peaks?\n",
    "Because the signal is not a simple sine wave.\n",
    "A Fourier transform tells you what the sine/cosine wave is at each frequency.\n",
    "\n",
    "# Let's see what that means by looking at the few most powerful frequencies"
   ]
  },
  {
   "cell_type": "code",
   "execution_count": null,
   "metadata": {},
   "outputs": [],
   "source": [
    "%matplotlib widget\n",
    "ncomponents = 50\n",
    "norm = np.sqrt(2)/len(snippet)  # Round trip normalization is unity, but how it gets there varies between libraries\n",
    "# fig,axlist = plt.subplots(nrows=ncomponents, sharex=True, sharey=True, figsize=(20,20), squeeze=True)\n",
    "fig,ax = plt.subplots(nrows=1)\n",
    "\n",
    "# Indices of the highest amplitude components\n",
    "sorted_i = np.argsort(-np.abs(v_fft))\n",
    "which_i = sorted_i[:ncomponents] \n",
    "\n",
    "# v_fft[which_i[0]] *= complex(1,1)  # What happens if you twist the biggest compent by 45 degrees?\n",
    "\n",
    "# Times of the snippet samples\n",
    "tsnip = np.arange(len(snippet))/samplerate\n",
    "ax.plot(tsnip, snippet, 'k', \"original\")\n",
    "ax.set(xlabel=\"Time (s)\", ylabel=\"value\")\n",
    "\n",
    "reconstruction = np.zeros(len(snippet))\n",
    "for i in which_i:\n",
    "    # Calculate the component\n",
    "    # The value of the FFT component is a complex number where the absolute value\n",
    "    # is the amplitude at that frequency, and the argument is the phase.\n",
    "    v = v_fft[i]\n",
    "    freq = f_fft[i]\n",
    "    phases = (2 * np.pi * tsnip * freq) + np.angle(v)\n",
    "    component = np.cos(phases) * np.abs(v) * norm\n",
    "#     phasor = complex(0,freq * 2 * np.pi)\n",
    "#     component = norm * (v_fft[i] * np.exp(tsnip * phasor)).real()\n",
    "    ax.plot(tsnip, component, linewidth=0.5) #, label=f\"{freq:.2f} Hz\")\n",
    "    reconstruction += component\n",
    "    sounddevice.play(reconstruction.astype(snippet.dtype), blocking=True)\n",
    "    time.sleep(0.25)\n",
    "    \n",
    "sounddevice.play(snippet)\n",
    "    \n",
    "ax.plot(tsnip, reconstruction, 'b', label=f\"{ncomponents} comp. reconst.\")\n",
    "ax.set(xlim=[0.0,0.01])\n",
    "fig.suptitle(f\"With only {ncomponents} sets of (f,a+bi) numbers you can approximate {len(snippet)} audio samples\")\n",
    "ax.legend()"
   ]
  },
  {
   "cell_type": "code",
   "execution_count": null,
   "metadata": {},
   "outputs": [],
   "source": [
    "# Instead of manually reconstructing the signal from individual components, you can use the Inverse FFT to go from frequencies to time.\n",
    "# Also, I don't seem to have my manual reconstruction quite right\n",
    "# Start with all zeros of the same shape and type as the FFT output:\n",
    "v_reconstruct = np.zeros(shape=v_fft.shape, dtype=v_fft.dtype)\n",
    "# Copy the best ncomponents values\n",
    "v_reconstruct[which_i] = v_fft[which_i]\n",
    "reconstruction_fast = np.fft.irfft(v_reconstruct)\n",
    "\n",
    "ax.plot(tsnip, reconstruction_fast, 'r', label=f\"{ncomponents} fast reconst.\")\n",
    "# ax.set(xlim=[0.0,0.01])\n",
    "# fig.suptitle(f\"With only {ncomponents} sets of (f,a+bi) numbers you can approximate {len(snippet)} audio samples\")\n",
    "ax.legend()"
   ]
  },
  {
   "cell_type": "code",
   "execution_count": null,
   "metadata": {},
   "outputs": [],
   "source": [
    "# What frequencies are calculated?\n",
    "# If you have a 1-second long snippet 10 samples at 0.1 seconds each\n",
    "\n",
    "np.fft.rfftfreq(n=10, d=0.1)\n",
    "\n",
    "# The highest frequency is 1 cycle/2 samples (Nyquist Theorem)\n",
    "# The spacing between frequencies is 1 cycle/full snippet"
   ]
  },
  {
   "cell_type": "markdown",
   "metadata": {},
   "source": [
    "# How can you use this to pull periodic signals out of noise?\n",
    "\n",
    "Take a long interval of data, add noise, and see if you can still find the signal"
   ]
  },
  {
   "cell_type": "code",
   "execution_count": null,
   "metadata": {},
   "outputs": [],
   "source": [
    "snippetsize = 2 ** 17 # FFT works best when length is power of 2\n",
    "i_midpoint = (len(data) - snippetsize) // 2    # The // division gives an integer and throws away remainder\n",
    "\n",
    "snippet = data[i_midpoint:i_midpoint+snippetsize]\n",
    "assert len(snippet) == snippetsize\n",
    "print(f\"Working with snippet of {len(snippet)} samples = {len(snippet) / samplerate :.2f} seconds\")\n",
    "# Play the snippet so we can hear it\n",
    "sounddevice.play(snippet, samplerate)\n",
    "\n"
   ]
  },
  {
   "cell_type": "code",
   "execution_count": null,
   "metadata": {},
   "outputs": [],
   "source": [
    "# Dilute it with noise by a factor of 10\n",
    "dilution = 0.1\n",
    "rms = snippet.std()\n",
    "noise = np.random.normal(scale=rms, size=snippet.shape)\n",
    "dilutedsignal = snippet*dilution\n",
    "noisysignal = noise + dilutedsignal\n",
    "sounddevice.play(noisysignal.astype(snippet.dtype), samplerate)\n",
    "\n",
    "tsnip = np.arange(len(snippet))/samplerate\n",
    "\n",
    "fig,ax = plt.subplots(nrows=1)\n",
    "ax.plot(tsnip, noisysignal, 'k')\n",
    "ax.plot(tsnip, dilutedsignal, 'r')\n",
    "ax.set(xlabel=\"Time (s)\", ylabel=\"value\", xlim=[0.,0.01])\n",
    "\n"
   ]
  },
  {
   "cell_type": "code",
   "execution_count": null,
   "metadata": {},
   "outputs": [],
   "source": [
    "%matplotlib widget\n",
    "# Now let's look at the FFT\n",
    "v_fft = np.fft.rfft(noisysignal)  # rfft because the input values are real (not complex)\n",
    "f_fft = np.fft.rfftfreq(len(noisysignal), 1/samplerate)\n",
    "\n",
    "plt.plot(f_fft, np.abs(v_fft)) \n",
    "plt.xlabel(\"Frequency\")\n",
    "plt.ylabel(\"Amplitude\")"
   ]
  },
  {
   "cell_type": "markdown",
   "metadata": {},
   "source": [
    "# FFT Tips\n",
    "\n",
    "1. Works on uniformly-spaced data\n",
    "1. Forward FFT goes from time to frequency, Inverse FFT goes from frequency to time.\n",
    "1. Algorithm works best for length n a power of 2.  Extremely slow if n has large prime factors.\n",
    "1. Output frequencies are k/duration for k=-n//2...-2,-1,0,1,2,...n//2\n",
    "1. Values are complex numbers (real and imaginary correspond to cosine and sine parts)\n",
    "1. Absolute value is amplitude. amplitude^2 is power.  10*log_10(power) is decibels.\n",
    "1. If input is real-valued, positive and negative frequencies give same value (so you can discard negative frequencies)\n",
    "1. Normalization of amplitudes varies from library to library, but for any given library, a round trip doesn't change anything.\n",
    "1. The zero-frequency value is the average.  For real FFTs this is real, so complex part is sometimes used to store top frequency.\n"
   ]
  },
  {
   "cell_type": "markdown",
   "metadata": {},
   "source": [
    "# Credits and references\n",
    "\n",
    "Jocelyn Bell picture \n",
    "https://blog.csiro.au/pioneer-pulsars-pops-into-parkes/\n",
    "\n",
    "Audio files from \\\n",
    "https://freesound.org\n",
    "\n",
    "singleflute-c4.wav \\\n",
    "257363__yano1__overall-quality-of-single-note-flute-c4.wav \\\n",
    "https://freesound.org/people/yano1/sounds/257363/\n",
    "\n",
    "flute-loop.wav \\\n",
    "121089__thirsk__95-flute-loop.wav \\\n",
    "https://freesound.org/people/Thirsk/sounds/121089/"
   ]
  },
  {
   "cell_type": "code",
   "execution_count": null,
   "metadata": {},
   "outputs": [],
   "source": [
    "# Detritus\n",
    "\n",
    "# Using sympy to solve the simple harmonic oscillator\n",
    "\n",
    "https://flothesof.github.io/harmonic-oscillator-three-methods-solution.html\n",
    "\n",
    "\n",
    "%matplotlib widget\n",
    "# How to plot\n",
    "plt.plot(np.sin(np.arange(1,100)/10))\n",
    "\n",
    "import sympy as sy\n",
    "x,y,z = sy.symbols('x y z')\n",
    "\n",
    "\n",
    "from sympy import *\n",
    "x = symbols('x')\n",
    "a = Integral(cos(x)*exp(x), x)\n",
    "Eq(a, a.doit())\n",
    "Eq(Integral(exp(x)*cos(x), x), exp(x)*sin(x)/2 + exp(x)*cos(x)/2)"
   ]
  },
  {
   "cell_type": "code",
   "execution_count": null,
   "metadata": {},
   "outputs": [],
   "source": []
  }
 ],
 "metadata": {
  "kernelspec": {
   "display_name": "python research",
   "language": "python",
   "name": "research"
  },
  "language_info": {
   "codemirror_mode": {
    "name": "ipython",
    "version": 3
   },
   "file_extension": ".py",
   "mimetype": "text/x-python",
   "name": "python",
   "nbconvert_exporter": "python",
   "pygments_lexer": "ipython3",
   "version": "3.7.3"
  }
 },
 "nbformat": 4,
 "nbformat_minor": 4
}
