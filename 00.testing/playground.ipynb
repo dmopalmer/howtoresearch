{
 "cells": [
  {
   "cell_type": "markdown",
   "metadata": {},
   "source": [
    "# Playground\n",
    "\n",
    "Play around here to learn how Notebooks work.\n",
    "\n",
    "Don't worry about wrecking anything, you can always recover the original files from github.\n",
    "\n",
    "Main thing is: `enter` gives you a new line, `ctrl-enter` executes the cell and gives you output, `shift-enter` also sends the cursorto the next cell. \n",
    "\n",
    "Jupyter documentation is officially here:\n",
    "\n",
    "https://jupyter.readthedocs.io/en/latest/\n",
    "\n",
    "If you want to google, you will have better luck looking for `jupyter notebook` than `jupyter lab`.\n"
   ]
  },
  {
   "cell_type": "code",
   "execution_count": 1,
   "metadata": {},
   "outputs": [],
   "source": [
    "%matplotlib widget\n",
    "# The `widget` setting lets you make plots in the output cell, and manipulate zoom, etc.\n",
    "\n",
    "#import everything you typically use up here so you can easily add to it\n",
    "import matplotlib.pyplot as plt\n",
    "import numpy as np\n",
    "import scipy as sp\n",
    "import astropy as ap\n"
   ]
  },
  {
   "cell_type": "code",
   "execution_count": 7,
   "metadata": {},
   "outputs": [
    {
     "data": {
      "text/plain": [
       "(15, 50)"
      ]
     },
     "execution_count": 7,
     "metadata": {},
     "output_type": "execute_result"
    }
   ],
   "source": [
    "# The result of the last line goes into the output cell\n",
    "x = 5\n",
    "y = 10\n",
    "x+y, x*y"
   ]
  },
  {
   "cell_type": "code",
   "execution_count": 8,
   "metadata": {},
   "outputs": [
    {
     "name": "stdout",
     "output_type": "stream",
     "text": [
      "x = 5, y = 10, x+y = 15\n"
     ]
    },
    {
     "data": {
      "text/plain": [
       "(15, 50)"
      ]
     },
     "execution_count": 8,
     "metadata": {},
     "output_type": "execute_result"
    }
   ],
   "source": [
    "# You can print things along the way so the output doesn't have to be from the last line\n",
    "print(f\"x = {x}, y = {y}, x+y = {x+y}\")\n",
    "x+y, x*y"
   ]
  },
  {
   "cell_type": "code",
   "execution_count": 6,
   "metadata": {},
   "outputs": [
    {
     "data": {
      "application/vnd.jupyter.widget-view+json": {
       "model_id": "1dd539cf1d8746f2823d564a208f4a6b",
       "version_major": 2,
       "version_minor": 0
      },
      "text/plain": [
       "Canvas(toolbar=Toolbar(toolitems=[('Home', 'Reset original view', 'home', 'home'), ('Back', 'Back to previous …"
      ]
     },
     "metadata": {},
     "output_type": "display_data"
    },
    {
     "data": {
      "text/plain": [
       "[<matplotlib.lines.Line2D at 0x111907da0>]"
      ]
     },
     "execution_count": 6,
     "metadata": {},
     "output_type": "execute_result"
    }
   ],
   "source": [
    "%matplotlib widget\n",
    "# How to plot\n",
    "plt.plot(np.sin(np.arange(1,100,0.1)/10))"
   ]
  },
  {
   "cell_type": "code",
   "execution_count": null,
   "metadata": {},
   "outputs": [],
   "source": []
  }
 ],
 "metadata": {
  "kernelspec": {
   "display_name": "python research",
   "language": "python",
   "name": "research"
  },
  "language_info": {
   "codemirror_mode": {
    "name": "ipython",
    "version": 3
   },
   "file_extension": ".py",
   "mimetype": "text/x-python",
   "name": "python",
   "nbconvert_exporter": "python",
   "pygments_lexer": "ipython3",
   "version": "3.7.3"
  }
 },
 "nbformat": 4,
 "nbformat_minor": 4
}
